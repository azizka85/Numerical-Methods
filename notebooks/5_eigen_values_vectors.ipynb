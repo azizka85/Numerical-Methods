{
 "cells": [
  {
   "cell_type": "markdown",
   "id": "9240442c",
   "metadata": {},
   "source": [
    "# Eigen values and vectors of a matrix"
   ]
  },
  {
   "cell_type": "code",
   "execution_count": 8,
   "id": "77e62229",
   "metadata": {},
   "outputs": [
    {
     "name": "stdout",
     "output_type": "stream",
     "text": [
      "Eigen values:\n",
      "[-0.37228132  5.37228132]\n",
      "\n",
      "Eigen vectors:\n",
      "[[-0.82456484 -0.41597356]\n",
      " [ 0.56576746 -0.90937671]]\n"
     ]
    }
   ],
   "source": [
    "import numpy as np\n",
    "\n",
    "a = np.array([\n",
    "    [1, 2], \n",
    "    [3, 4]\n",
    "])\n",
    "\n",
    "eigenvalues, eigenvectors = np.linalg.eig(a)\n",
    "\n",
    "print(\"Eigen values:\")\n",
    "print(eigenvalues)\n",
    "\n",
    "print(\"\\nEigen vectors:\")\n",
    "print(eigenvectors)"
   ]
  },
  {
   "cell_type": "markdown",
   "id": "7ac199d0",
   "metadata": {},
   "source": [
    "### Eigen vectors norms"
   ]
  },
  {
   "cell_type": "code",
   "execution_count": 9,
   "id": "061f34e0",
   "metadata": {},
   "outputs": [
    {
     "name": "stdout",
     "output_type": "stream",
     "text": [
      "Eigen vector norm for λ = -0.3722813232690143 is 1.0000000000000002\n",
      "Eigen vector norm for λ = 5.372281323269014 is 1.0\n"
     ]
    }
   ],
   "source": [
    "m = len(eigenvalues)\n",
    "\n",
    "for i in range(m):\n",
    "    print(f'Eigen vector norm for λ = {eigenvalues[i]} is {np.dot(eigenvectors[:, i], eigenvectors[:, i])}')"
   ]
  },
  {
   "cell_type": "markdown",
   "id": "73f154c4",
   "metadata": {},
   "source": [
    "### Let's check this eigen values\n",
    "\n",
    "$$A \\cdot x = \\lambda \\cdot x$$\n",
    "\n",
    "$$(A - \\lambda I) \\cdot x = 0$$"
   ]
  },
  {
   "cell_type": "code",
   "execution_count": 10,
   "id": "da05d142",
   "metadata": {},
   "outputs": [
    {
     "name": "stdout",
     "output_type": "stream",
     "text": [
      "---\n",
      "Checking for λ = -0.3722813232690143\n",
      "Matrix determinant A - λI = 0.0\n",
      "(A - λI)x = [0. 0.]\n",
      "---\n",
      "Checking for λ = 5.372281323269014\n",
      "Matrix determinant A - λI = 0.0\n",
      "(A - λI)x = [-2.22044605e-16  2.22044605e-16]\n"
     ]
    }
   ],
   "source": [
    "n = len(eigenvectors[0])\n",
    "\n",
    "for i in range(m):\n",
    "    b = np.diag([eigenvalues[i]] * n)\n",
    "    c = a - b\n",
    "\n",
    "    print('---')\n",
    "    print(f'Checking for λ = {eigenvalues[i]}')\n",
    "    print(f'Matrix determinant A - λI = {np.linalg.det(c)}')\n",
    "    print(f'(A - λI)x = {np.dot(c, eigenvectors[:, i])}')"
   ]
  }
 ],
 "metadata": {
  "kernelspec": {
   "display_name": ".venv",
   "language": "python",
   "name": "python3"
  },
  "language_info": {
   "codemirror_mode": {
    "name": "ipython",
    "version": 3
   },
   "file_extension": ".py",
   "mimetype": "text/x-python",
   "name": "python",
   "nbconvert_exporter": "python",
   "pygments_lexer": "ipython3",
   "version": "3.13.4"
  }
 },
 "nbformat": 4,
 "nbformat_minor": 5
}
