{
 "cells": [
  {
   "cell_type": "markdown",
   "id": "df6e283a",
   "metadata": {},
   "source": [
    "# Calculation errors"
   ]
  },
  {
   "cell_type": "markdown",
   "id": "b3495b7f",
   "metadata": {},
   "source": [
    "### 1. Absolute and relative error"
   ]
  },
  {
   "cell_type": "markdown",
   "id": "4568d693",
   "metadata": {},
   "source": [
    "Let $x$ be an exact but usually unknown value, and $\\widetilde{x}$ be its known approximate value.\n",
    "\n",
    "Absolute error: $\\triangle x = |x - \\widetilde{x}|$\n",
    "\n",
    "Relative error: $\\delta = \\frac{\\triangle x}{|\\widetilde{x}|}$"
   ]
  },
  {
   "cell_type": "code",
   "execution_count": 26,
   "id": "0bb85dc3",
   "metadata": {},
   "outputs": [
    {
     "name": "stdout",
     "output_type": "stream",
     "text": [
      "Exact value: 3.141592653589793\n",
      "Approximate value: 3.14\n",
      "Absolute error: 0.0015926535897929917\n",
      "Relative error: 0.000507214519042354\n",
      "Relative error (%): 0.050721451904235396\n"
     ]
    }
   ],
   "source": [
    "from math import pi\n",
    "\n",
    "x_exact = pi\n",
    "x_approx = 3.14\n",
    "\n",
    "error = abs(x_exact - x_approx)\n",
    "delta = error / abs(x_approx)\n",
    "\n",
    "print(f'Exact value: {x_exact}')\n",
    "print(f'Approximate value: {x_approx}')\n",
    "print(f'Absolute error: {error}')\n",
    "print(f'Relative error: {delta}')\n",
    "print(f'Relative error (%): {delta * 100}')"
   ]
  },
  {
   "cell_type": "markdown",
   "id": "304f00bf",
   "metadata": {},
   "source": [
    "###  2. Error in the sum or difference of numbers"
   ]
  },
  {
   "cell_type": "markdown",
   "id": "b47cbefb",
   "metadata": {},
   "source": [
    "Let $\\widetilde{x_1} = x_1 + \\triangle x_1$, $\\widetilde{x_2} = x_2 + \\triangle x_2$\n",
    "\n",
    "then $\\widetilde{x_1} + \\widetilde{x_2} = x_1 + x_2 + \\triangle x_1 + \\triangle x_2$, i.e. $\\triangle(x_1 + x_2) = \\triangle x_1 + \\triangle x_2$ \n",
    "\n",
    "$\\triangle(x_1 - x_2) = \\triangle x_1 + \\triangle x_2$ \n",
    "\n",
    "$\\triangle(x_1 + x_2 + ... + x_n) = \\triangle x_1 + \\triangle x_2 + ... + \\triangle x_n = n \\cdot \\triangle x$ \n",
    "\n",
    "$\n",
    "    \\delta(x_1 \\pm x_2) = \\frac{\\triangle(\\widetilde{x_1} \\pm \\widetilde{x_2})}{|\\widetilde{x_1} \\pm \\widetilde{x_2}|} = \n",
    "    \\frac{\\triangle(\\widetilde{x_1}) \\pm \\triangle{\\widetilde{x_2}}}{|\\widetilde{x_1} \\pm \\widetilde{x_2}|} =\n",
    "    \\frac{\\widetilde{x_1}}{|\\widetilde{x_1} \\pm \\widetilde{x_2}|} \\delta(\\widetilde{x_1}) + \\frac{\\widetilde{x_2}}{|\\widetilde{x_1} \\pm \\widetilde{x_2}|} \\delta(\\widetilde{x_2})\n",
    "$\n",
    "\n"
   ]
  },
  {
   "cell_type": "code",
   "execution_count": 27,
   "id": "de6e5f8f",
   "metadata": {},
   "outputs": [
    {
     "name": "stdout",
     "output_type": "stream",
     "text": [
      "Exact value x1 = 1.03\n",
      "Approximate value x1 = 1\n",
      "Absolute error x1 = 0.030000000000000027\n",
      "Relative error x1 = 0.030000000000000027\n"
     ]
    }
   ],
   "source": [
    "x1_exact = 1.03\n",
    "x1_approx = 1\n",
    "\n",
    "error1 = abs(x1_exact - x1_approx)\n",
    "delta1 = error1 / abs(x1_approx)\n",
    "\n",
    "print(f'Exact value x1 = {x1_exact}')\n",
    "print(f'Approximate value x1 = {x1_approx}')\n",
    "print(f'Absolute error x1 = {error1}')\n",
    "print(f'Relative error x1 = {delta1}')"
   ]
  },
  {
   "cell_type": "code",
   "execution_count": 28,
   "id": "365c64ec",
   "metadata": {},
   "outputs": [
    {
     "name": "stdout",
     "output_type": "stream",
     "text": [
      "Exact value x2 = 2.04\n",
      "Approximate value x2 = 2\n",
      "Absolute error x2 = 0.040000000000000036\n",
      "Relative error x2 = 0.020000000000000018\n"
     ]
    }
   ],
   "source": [
    "x2_exact = 2.04\n",
    "x2_approx = 2\n",
    "\n",
    "error2 = abs(x2_exact - x2_approx)\n",
    "delta2 = error2 / abs(x2_approx)\n",
    "\n",
    "print(f'Exact value x2 = {x2_exact}')\n",
    "print(f'Approximate value x2 = {x2_approx}')\n",
    "print(f'Absolute error x2 = {error2}')\n",
    "print(f'Relative error x2 = {delta2}')"
   ]
  },
  {
   "cell_type": "code",
   "execution_count": 29,
   "id": "bf9f6602",
   "metadata": {},
   "outputs": [
    {
     "name": "stdout",
     "output_type": "stream",
     "text": [
      "Exact absolute error in x1 + x2 = 0.07000000000000028\n",
      "Exact relative error in x1 + x2 = 0.023333333333333428\n"
     ]
    }
   ],
   "source": [
    "error_exact = abs(x1_exact + x2_exact - x1_approx - x2_approx)\n",
    "delta_exact = error_exact / abs(x1_approx + x2_approx)\n",
    "\n",
    "print(f'Exact absolute error in x1 + x2 = {error_exact}')\n",
    "print(f'Exact relative error in x1 + x2 = {delta_exact}')"
   ]
  },
  {
   "cell_type": "code",
   "execution_count": 30,
   "id": "dc1453ed",
   "metadata": {},
   "outputs": [
    {
     "name": "stdout",
     "output_type": "stream",
     "text": [
      "Approximate absolute error in x1 + x2 = 0.07000000000000028\n",
      "Approximate relative error in x1 + x2 = 0.023333333333333428\n"
     ]
    }
   ],
   "source": [
    "error_approx = error1 + error2\n",
    "delta_approx = x1_approx * delta1 / (x1_approx + x2_approx) + x2_approx * delta2 / (x1_approx + x2_approx)\n",
    "\n",
    "print(f'Approximate absolute error in x1 + x2 = {error_exact}')\n",
    "print(f'Approximate relative error in x1 + x2 = {delta_exact}')"
   ]
  },
  {
   "cell_type": "code",
   "execution_count": 31,
   "id": "66db8372",
   "metadata": {},
   "outputs": [
    {
     "name": "stdout",
     "output_type": "stream",
     "text": [
      "Exact absolute error in x1 - x2 = 0.009999999999999787\n",
      "Exact relative error in x1 - x2 = 0.009999999999999787\n"
     ]
    }
   ],
   "source": [
    "error_exact = abs(x1_exact - x2_exact - x1_approx + x2_approx)\n",
    "delta_exact = error_exact / abs(x1_approx - x2_approx)\n",
    "\n",
    "print(f'Exact absolute error in x1 - x2 = {error_exact}')\n",
    "print(f'Exact relative error in x1 - x2 = {delta_exact}')"
   ]
  },
  {
   "cell_type": "code",
   "execution_count": 32,
   "id": "da35b25c",
   "metadata": {},
   "outputs": [
    {
     "name": "stdout",
     "output_type": "stream",
     "text": [
      "Approximate absolute error in x1 - x2 = 0.009999999999999787\n",
      "Approximate relative error in x1 - x2 = 0.009999999999999787\n"
     ]
    }
   ],
   "source": [
    "error_approx = error1 + error2\n",
    "delta_approx = x1_approx * delta1 / abs(x1_approx - x2_approx) + x2_approx * delta2 / abs(x1_approx - x2_approx)\n",
    "\n",
    "print(f'Approximate absolute error in x1 - x2 = {error_exact}')\n",
    "print(f'Approximate relative error in x1 - x2 = {delta_exact}')"
   ]
  },
  {
   "cell_type": "markdown",
   "id": "49eccd1a",
   "metadata": {},
   "source": [
    "### 3. Error in the product and division of numbers\n",
    "\n",
    "$\\widetilde{x_1} \\cdot \\widetilde{x_2} = (x_1 + \\triangle x_1) \\cdot (x_2 + \\triangle x_2) = x_1 \\cdot x_2 + x_2 \\cdot \\triangle x_1 + x_1 \\cdot \\triangle x_2$, i.e. $\\triangle(x_1 \\cdot x_2) = x_2 \\cdot \\triangle x_1 + x_1 \\cdot \\triangle x_2$ \n",
    "\n",
    "$\\triangle(\\widetilde{x_1} \\cdot \\widetilde{x_2}) = \\widetilde{x_2} \\cdot \\triangle \\widetilde{x_1} + \\widetilde{x_1} \\cdot \\triangle \\widetilde{x_2} \\approx \\widetilde{x_2} \\cdot \\triangle x_1 + \\widetilde{x_1} \\cdot \\triangle x_2$ \n",
    "\n",
    "$\\delta(x_1 \\cdot x_2) = \\frac{\\triangle(x_1 \\cdot x_2)}{\\widetilde{x_1} \\cdot \\widetilde{x_2}} \\approx \\delta(x_1) + \\delta(x_2)$\n",
    "\n",
    "$\\delta(x_1 \\cdot x_2 \\cdot ... \\cdot x_n) \\approx \\delta(x_1) + \\delta(x_2) + \\delta(x_3) + ... + \\delta(x_n)$\n",
    "\n",
    "$\\triangle(\\frac{x_1}{x_2}) \\approx \\frac{\\widetilde{x_1} \\cdot \\triangle(x_2) + \\widetilde{x_2} \\cdot \\triangle(x_1)}{{\\widetilde{x_2}}^2}$\n",
    "\n",
    "$\\delta(x_1/x_2) \\approx \\delta(x_1) + \\delta(x_2)$\n",
    "\n",
    "$\\delta(x_1/x_2/.../x_n) \\approx \\delta(x_1) + \\delta(x_2) + ... + \\delta(x_n)$"
   ]
  },
  {
   "cell_type": "code",
   "execution_count": 33,
   "id": "64d0e411",
   "metadata": {},
   "outputs": [
    {
     "name": "stdout",
     "output_type": "stream",
     "text": [
      "Exact absolute error in x1 * x2 = 0.10119999999999996\n",
      "Exact relative error in x1 * x2 = 0.05059999999999998\n"
     ]
    }
   ],
   "source": [
    "error_exact = abs(x1_exact * x2_exact - x1_approx * x2_approx)\n",
    "delta_exact = error_exact / abs(x1_approx * x2_approx)\n",
    "\n",
    "print(f'Exact absolute error in x1 * x2 = {error_exact}')\n",
    "print(f'Exact relative error in x1 * x2 = {delta_exact}')"
   ]
  },
  {
   "cell_type": "code",
   "execution_count": 34,
   "id": "07c2075d",
   "metadata": {},
   "outputs": [
    {
     "name": "stdout",
     "output_type": "stream",
     "text": [
      "Approximate absolute error in x1 * x2 = 0.10000000000000009\n",
      "Approximate relative error in x1 * x2 = 0.050000000000000044\n"
     ]
    }
   ],
   "source": [
    "error_approx = x2_approx * error1 + x1_approx * error2\n",
    "delta_approx = delta1 + delta2\n",
    "\n",
    "print(f'Approximate absolute error in x1 * x2 = {error_approx}')\n",
    "print(f'Approximate relative error in x1 * x2 = {delta_approx}')"
   ]
  },
  {
   "cell_type": "code",
   "execution_count": 35,
   "id": "a68a57ab",
   "metadata": {},
   "outputs": [
    {
     "name": "stdout",
     "output_type": "stream",
     "text": [
      "Exact absolute error in x1 / x2 = 0.004901960784313708\n",
      "Exact relative error in x1 / x2 = 0.009803921568627416\n"
     ]
    }
   ],
   "source": [
    "error_exact = abs(x1_exact / x2_exact - x1_approx / x2_approx)\n",
    "delta_exact = error_exact / abs(x1_approx / x2_approx)\n",
    "\n",
    "print(f'Exact absolute error in x1 / x2 = {error_exact}')\n",
    "print(f'Exact relative error in x1 / x2 = {delta_exact}')"
   ]
  },
  {
   "cell_type": "code",
   "execution_count": 36,
   "id": "c17feba0",
   "metadata": {},
   "outputs": [
    {
     "name": "stdout",
     "output_type": "stream",
     "text": [
      "Approximate absolute error in x1 / x2 = 0.025000000000000022\n",
      "Approximate relative error in x1 / x2 = 0.050000000000000044\n"
     ]
    }
   ],
   "source": [
    "error_approx = (x1_approx * error2 + x2_approx * error1) / x2_approx / x2_approx\n",
    "delta_approx = delta1 + delta2\n",
    "\n",
    "print(f'Approximate absolute error in x1 / x2 = {error_approx}')\n",
    "print(f'Approximate relative error in x1 / x2 = {delta_approx}')"
   ]
  },
  {
   "cell_type": "markdown",
   "id": "45f052eb",
   "metadata": {},
   "source": [
    "### 4. Function error\n",
    "\n",
    "$z = f(x)$\n",
    "\n",
    "$\\triangle(z) = |\\frac{\\partial f}{\\partial x}| \\cdot \\triangle(x)$\n",
    "\n",
    "$\\delta(z) = |\\frac{\\widetilde{x}}{f} \\cdot \\frac{\\partial f}{\\partial x}| \\cdot \\delta(x)$ \n",
    "\n",
    "$z = f(x_1, x_2, ..., x_n)$\n",
    "\n",
    "$\\triangle(z) = |\\frac{\\partial f}{\\partial x_1}| \\cdot \\triangle(x_1) + |\\frac{\\partial f}{\\partial x_2}| \\cdot \\triangle(x_2) + ... + |\\frac{\\partial f}{\\partial x_n}| \\cdot \\triangle(x_n)$\n",
    "\n",
    "$\\delta(z) = |\\frac{x_1}{f} \\cdot \\frac{\\partial f}{\\partial x_1}| \\cdot \\delta(x_1) + \n",
    "|\\frac{x_2}{f} \\cdot \\frac{\\partial f}{\\partial x_2}| \\cdot \\delta(x_2) + ... +\n",
    "|\\frac{x_n}{f} \\cdot \\frac{\\partial f}{\\partial x_n}| \\cdot \\delta(x_n)$ "
   ]
  },
  {
   "cell_type": "markdown",
   "id": "ab15f75b",
   "metadata": {},
   "source": [
    "Example:\n",
    "\n",
    "$f(x) = sin(x)$\n",
    "\n",
    "$x = \\pi/9$\n",
    "\n",
    "$\\widetilde{x} = 3.141/9$\n",
    "\n",
    "$|\\frac{\\partial f}{\\partial x}| = |cos(\\widetilde{x})| = |cos(3.141/9)|$"
   ]
  },
  {
   "cell_type": "code",
   "execution_count": 37,
   "id": "358a0182",
   "metadata": {},
   "outputs": [
    {
     "name": "stdout",
     "output_type": "stream",
     "text": [
      "Exact absolute error in x1 / x2 = 6.187987539207906e-05\n",
      "Exact relative error in x1 / x2 = 0.00018095739160599894\n"
     ]
    }
   ],
   "source": [
    "from math import pi, sin, cos\n",
    "\n",
    "x_exact = pi / 9.\n",
    "x_approx = 3.141 / 9\n",
    "\n",
    "error_x = abs(x_exact - x_approx)\n",
    "delta_x = error_x / x_approx\n",
    "\n",
    "error_exact = abs(sin(x_exact) - sin(x_approx))\n",
    "delta_exact = error_exact / sin(x_approx)\n",
    "\n",
    "print(f'Exact absolute error in x1 / x2 = {error_exact}')\n",
    "print(f'Exact relative error in x1 / x2 = {delta_exact}')"
   ]
  },
  {
   "cell_type": "code",
   "execution_count": 38,
   "id": "2273a211",
   "metadata": {},
   "outputs": [
    {
     "name": "stdout",
     "output_type": "stream",
     "text": [
      "Approximate absolute error in x1 / x2 = 6.188061684935654e-05\n",
      "Approximate relative error in x1 / x2 = 0.00018095955987434257\n"
     ]
    }
   ],
   "source": [
    "f = sin(x_approx)\n",
    "df = cos(x_approx)\n",
    "\n",
    "error_approx = df * error_x\n",
    "delta_approx = abs(x_approx * df * delta_x / f)\n",
    "\n",
    "print(f'Approximate absolute error in x1 / x2 = {error_approx}')\n",
    "print(f'Approximate relative error in x1 / x2 = {delta_approx}')"
   ]
  }
 ],
 "metadata": {
  "kernelspec": {
   "display_name": ".venv",
   "language": "python",
   "name": "python3"
  },
  "language_info": {
   "codemirror_mode": {
    "name": "ipython",
    "version": 3
   },
   "file_extension": ".py",
   "mimetype": "text/x-python",
   "name": "python",
   "nbconvert_exporter": "python",
   "pygments_lexer": "ipython3",
   "version": "3.13.4"
  }
 },
 "nbformat": 4,
 "nbformat_minor": 5
}
