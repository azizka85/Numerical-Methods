{
 "cells": [
  {
   "cell_type": "markdown",
   "id": "6ad6d494",
   "metadata": {},
   "source": [
    "# Conjugate Gradient Method"
   ]
  },
  {
   "cell_type": "code",
   "execution_count": 17,
   "id": "54d20413",
   "metadata": {},
   "outputs": [],
   "source": [
    "import sys\n",
    "\n",
    "sys.path.append('..')"
   ]
  },
  {
   "cell_type": "markdown",
   "id": "6ebddbe3",
   "metadata": {},
   "source": [
    "### 1. Conjugate Gradient Method"
   ]
  },
  {
   "cell_type": "code",
   "execution_count": 18,
   "id": "460e9f0a",
   "metadata": {},
   "outputs": [
    {
     "name": "stdout",
     "output_type": "stream",
     "text": [
      "iterations: 3\n"
     ]
    },
    {
     "data": {
      "text/plain": [
       "array([3., 1., 1.])"
      ]
     },
     "execution_count": 18,
     "metadata": {},
     "output_type": "execute_result"
    }
   ],
   "source": [
    "import numpy as np\n",
    "from modules.slae.solver.iterative.conjugate_gradient import conjugate_gradient\n",
    "\n",
    "a = np.array([\n",
    "    [4., -1., 1.],\n",
    "    [-1., 4., -2.],\n",
    "    [1., -2., 4.]\n",
    "])\n",
    "\n",
    "b = np.array([12., -1., 5.])\n",
    "\n",
    "x, iter = conjugate_gradient(a, b, 10**-9, 1000)\n",
    "\n",
    "print(f'iterations: {iter}')\n",
    "\n",
    "x"
   ]
  },
  {
   "cell_type": "code",
   "execution_count": 19,
   "id": "f6c842be",
   "metadata": {},
   "outputs": [
    {
     "data": {
      "text/plain": [
       "array([ 1.77635684e-15, -8.88178420e-16,  1.77635684e-15])"
      ]
     },
     "execution_count": 19,
     "metadata": {},
     "output_type": "execute_result"
    }
   ],
   "source": [
    "r = np.dot(a, x) - b\n",
    "\n",
    "r"
   ]
  },
  {
   "cell_type": "markdown",
   "id": "0d32ee12",
   "metadata": {},
   "source": [
    "### 2. Conjugate Gradient Method for Sparse Matrix"
   ]
  },
  {
   "cell_type": "markdown",
   "id": "7a303585",
   "metadata": {},
   "source": [
    "$\n",
    "A = \\begin{pmatrix}\n",
    "    3 & 0 & -1 \\\\\n",
    "    0 & 4 & -2 \\\\\n",
    "    -1 & -2 & 5 \\\\ \n",
    "\\end{pmatrix},\\quad\n",
    "b = \\begin{pmatrix}\n",
    "    4 \\\\\n",
    "    10 \\\\\n",
    "    -10\n",
    "\\end{pmatrix}\n",
    "$"
   ]
  },
  {
   "cell_type": "code",
   "execution_count": 20,
   "id": "ca169ee2",
   "metadata": {},
   "outputs": [
    {
     "name": "stdout",
     "output_type": "stream",
     "text": [
      "iterations: 3\n"
     ]
    },
    {
     "data": {
      "text/plain": [
       "array([ 1.,  2., -1.])"
      ]
     },
     "execution_count": 20,
     "metadata": {},
     "output_type": "execute_result"
    }
   ],
   "source": [
    "from modules.slae.solver.iterative.conjugate_gradient import conjugate_gradient_sym_triplet\n",
    "\n",
    "t = [\n",
    "    [0, 0, 3.],\n",
    "    [0, 2, -1.],\n",
    "    [1, 1, 4.],\n",
    "    [1, 2, -2.],\n",
    "    [2, 2, 5.]\n",
    "]\n",
    "\n",
    "b = np.array([4., 10., -10.])\n",
    "\n",
    "x, iter = conjugate_gradient_sym_triplet(t, b, 10**-9, 1000)\n",
    "\n",
    "print(f'iterations: {iter}')\n",
    "\n",
    "x"
   ]
  },
  {
   "cell_type": "code",
   "execution_count": 21,
   "id": "f953e839",
   "metadata": {},
   "outputs": [
    {
     "data": {
      "text/plain": [
       "array([-4.4408921e-16,  0.0000000e+00,  0.0000000e+00])"
      ]
     },
     "execution_count": 21,
     "metadata": {},
     "output_type": "execute_result"
    }
   ],
   "source": [
    "from modules.matrix.utils import matrix_sym_triplet_mult_vector\n",
    "\n",
    "r = matrix_sym_triplet_mult_vector(t, x) - b\n",
    "\n",
    "r"
   ]
  }
 ],
 "metadata": {
  "kernelspec": {
   "display_name": ".venv",
   "language": "python",
   "name": "python3"
  },
  "language_info": {
   "codemirror_mode": {
    "name": "ipython",
    "version": 3
   },
   "file_extension": ".py",
   "mimetype": "text/x-python",
   "name": "python",
   "nbconvert_exporter": "python",
   "pygments_lexer": "ipython3",
   "version": "3.13.4"
  }
 },
 "nbformat": 4,
 "nbformat_minor": 5
}
