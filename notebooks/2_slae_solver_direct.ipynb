{
 "cells": [
  {
   "cell_type": "markdown",
   "id": "469f9b39",
   "metadata": {},
   "source": [
    "# Direct Methods for Solving System of Linear Algebraic Equations"
   ]
  },
  {
   "cell_type": "code",
   "execution_count": 37,
   "id": "1f3a3819",
   "metadata": {},
   "outputs": [],
   "source": [
    "import sys\n",
    "\n",
    "sys.path.append('..')"
   ]
  },
  {
   "cell_type": "markdown",
   "id": "fdd26c73",
   "metadata": {},
   "source": [
    "### 1. Gauss Elimination Method"
   ]
  },
  {
   "cell_type": "code",
   "execution_count": 38,
   "id": "db9f9e6d",
   "metadata": {},
   "outputs": [
    {
     "data": {
      "text/plain": [
       "array([10., 22., 14.])"
      ]
     },
     "execution_count": 38,
     "metadata": {},
     "output_type": "execute_result"
    }
   ],
   "source": [
    "import numpy as np\n",
    "from modules.slae.solver.direct.gauss_elimination import gauss_elimination\n",
    "\n",
    "a = np.array([\n",
    "    [6., -4., 1.],\n",
    "    [-4., 6., -4.],\n",
    "    [1., -4., 6.]\n",
    "])\n",
    "\n",
    "b = np.array([-14., 36., 6.])\n",
    "\n",
    "x = gauss_elimination(a, b)\n",
    "\n",
    "x"
   ]
  },
  {
   "cell_type": "markdown",
   "id": "86a714b5",
   "metadata": {},
   "source": [
    "##### Let's check the solution found\n",
    "\n",
    "If $x$ is a solution to $A * x = b$, then $r = A * x - b = 0$"
   ]
  },
  {
   "cell_type": "code",
   "execution_count": 39,
   "id": "33dfc714",
   "metadata": {},
   "outputs": [
    {
     "data": {
      "text/plain": [
       "array([1.77635684e-15, 2.13162821e-14, 0.00000000e+00])"
      ]
     },
     "execution_count": 39,
     "metadata": {},
     "output_type": "execute_result"
    }
   ],
   "source": [
    "r = np.dot(a, x) - b\n",
    "\n",
    "r"
   ]
  },
  {
   "cell_type": "markdown",
   "id": "1dde8497",
   "metadata": {},
   "source": [
    "### 2. LU factorization"
   ]
  },
  {
   "cell_type": "code",
   "execution_count": 40,
   "id": "bf227043",
   "metadata": {},
   "outputs": [
    {
     "data": {
      "text/plain": [
       "array([10., 22., 14.])"
      ]
     },
     "execution_count": 40,
     "metadata": {},
     "output_type": "execute_result"
    }
   ],
   "source": [
    "from modules.slae.solver.direct.lu_decomposition import lu_decomposition, lu_solve\n",
    "\n",
    "a = np.array([\n",
    "    [6., -4., 1.],\n",
    "    [-4., 6., -4.],\n",
    "    [1., -4., 6.]\n",
    "])\n",
    "\n",
    "lu = lu_decomposition(a)\n",
    "\n",
    "b = np.array([-14., 36., 6.])\n",
    "\n",
    "x = lu_solve(lu, b)\n",
    "\n",
    "x"
   ]
  },
  {
   "cell_type": "code",
   "execution_count": 41,
   "id": "84ccdf18",
   "metadata": {},
   "outputs": [
    {
     "data": {
      "text/plain": [
       "array([1.77635684e-15, 2.13162821e-14, 0.00000000e+00])"
      ]
     },
     "execution_count": 41,
     "metadata": {},
     "output_type": "execute_result"
    }
   ],
   "source": [
    "r = np.dot(a, x) - b\n",
    "\n",
    "r"
   ]
  },
  {
   "cell_type": "markdown",
   "id": "4b762f3f",
   "metadata": {},
   "source": [
    "### 3. Choleski’s Decomposition"
   ]
  },
  {
   "cell_type": "code",
   "execution_count": 42,
   "id": "4f6b0185",
   "metadata": {},
   "outputs": [
    {
     "data": {
      "text/plain": [
       "array([10., 22., 14.])"
      ]
     },
     "execution_count": 42,
     "metadata": {},
     "output_type": "execute_result"
    }
   ],
   "source": [
    "from modules.slae.solver.direct.choleski_decomposition import choleski_decomposition, choleski_solve\n",
    "\n",
    "a = np.array([\n",
    "    [6., -4., 1.],\n",
    "    [-4., 6., -4.],\n",
    "    [1., -4., 6.]\n",
    "])\n",
    "\n",
    "chol = choleski_decomposition(a)\n",
    "\n",
    "b = np.array([-14., 36., 6.])\n",
    "\n",
    "x = choleski_solve(chol, b)\n",
    "\n",
    "x"
   ]
  },
  {
   "cell_type": "code",
   "execution_count": 43,
   "id": "b769d52f",
   "metadata": {},
   "outputs": [
    {
     "data": {
      "text/plain": [
       "array([-1.77635684e-15, -2.13162821e-14,  0.00000000e+00])"
      ]
     },
     "execution_count": 43,
     "metadata": {},
     "output_type": "execute_result"
    }
   ],
   "source": [
    "r = np.dot(a, x) - b\n",
    "\n",
    "r"
   ]
  },
  {
   "cell_type": "markdown",
   "id": "bacbe3ba",
   "metadata": {},
   "source": [
    "### 4. Tridiagonal matrix"
   ]
  },
  {
   "cell_type": "markdown",
   "id": "d19f34a3",
   "metadata": {},
   "source": [
    "$\n",
    "A = \\begin{pmatrix}\n",
    "    2 & -1 & 0 & 0 & 0 \\\\\n",
    "    -1 & 2 & -1 & 0 & 0 \\\\\n",
    "    0 & -1 & 2 & -1 & 0 \\\\ \n",
    "    0 & 0 & -1 & 2 & -1 \\\\ \n",
    "    0 & 0 & 0 & -1 & 2  \n",
    "\\end{pmatrix},\\quad\n",
    "b = \\begin{pmatrix}\n",
    "    5 \\\\\n",
    "    -5 \\\\\n",
    "    4 \\\\ \n",
    "    -5 \\\\ \n",
    "    5  \n",
    "\\end{pmatrix}\n",
    "$"
   ]
  },
  {
   "cell_type": "code",
   "execution_count": 44,
   "id": "50feb06b",
   "metadata": {},
   "outputs": [
    {
     "data": {
      "text/plain": [
       "array([ 2., -1.,  1., -1.,  2.])"
      ]
     },
     "execution_count": 44,
     "metadata": {},
     "output_type": "execute_result"
    }
   ],
   "source": [
    "from modules.slae.solver.direct.lu_decomposition import lu_3_diag_decomposition, lu_3_diag_solve\n",
    "\n",
    "d = np.ones((5)) * 2.\n",
    "c = np.ones((4)) * (-1)\n",
    "\n",
    "b = np.array([5., -5., 4., -5., 5.])\n",
    "\n",
    "e = c.copy()\n",
    "\n",
    "ct, dt, et = lu_3_diag_decomposition(c, d, e)\n",
    "x = lu_3_diag_solve(ct, dt, et, b)\n",
    "\n",
    "x"
   ]
  },
  {
   "cell_type": "markdown",
   "id": "aee4ee87",
   "metadata": {},
   "source": [
    "##### Let's verify the solution we found\n",
    "\n",
    "If $x$ is the solution $A * x = b$, then $r = A * x - b = 0$"
   ]
  },
  {
   "cell_type": "code",
   "execution_count": 45,
   "id": "26785fd0",
   "metadata": {},
   "outputs": [
    {
     "data": {
      "text/plain": [
       "array([0., 0., 0., 0., 0.])"
      ]
     },
     "execution_count": 45,
     "metadata": {},
     "output_type": "execute_result"
    }
   ],
   "source": [
    "from modules.matrix.utils import matrix_3_diag_mult_vector\n",
    "\n",
    "r = matrix_3_diag_mult_vector(c, d, e, x) - b\n",
    "\n",
    "r"
   ]
  }
 ],
 "metadata": {
  "kernelspec": {
   "display_name": ".venv",
   "language": "python",
   "name": "python3"
  },
  "language_info": {
   "codemirror_mode": {
    "name": "ipython",
    "version": 3
   },
   "file_extension": ".py",
   "mimetype": "text/x-python",
   "name": "python",
   "nbconvert_exporter": "python",
   "pygments_lexer": "ipython3",
   "version": "3.13.4"
  }
 },
 "nbformat": 4,
 "nbformat_minor": 5
}
