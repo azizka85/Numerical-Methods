{
 "cells": [
  {
   "cell_type": "markdown",
   "id": "21648ade",
   "metadata": {},
   "source": [
    "# Iterative Methods for Solving System of Linear Algebraic Equations "
   ]
  },
  {
   "cell_type": "code",
   "execution_count": 11,
   "id": "ffcfd631",
   "metadata": {},
   "outputs": [],
   "source": [
    "import sys\n",
    "\n",
    "sys.path.append('..')"
   ]
  },
  {
   "cell_type": "markdown",
   "id": "83946b6d",
   "metadata": {},
   "source": [
    "### 1. Gauss-Seidel Method"
   ]
  },
  {
   "cell_type": "code",
   "execution_count": 12,
   "id": "14573fea",
   "metadata": {},
   "outputs": [
    {
     "name": "stdout",
     "output_type": "stream",
     "text": [
      "iterations: 14\n"
     ]
    },
    {
     "data": {
      "text/plain": [
       "array([3., 1., 1.])"
      ]
     },
     "execution_count": 12,
     "metadata": {},
     "output_type": "execute_result"
    }
   ],
   "source": [
    "import numpy as np\n",
    "from modules.slae.solver.iterative.gauss_seidel import gauss_seidel\n",
    "\n",
    "a = np.array([\n",
    "    [4., -1., 1.],\n",
    "    [-1., 4., -2.],\n",
    "    [1., -2., 4.]\n",
    "])\n",
    "\n",
    "b = np.array([12., -1., 5.])\n",
    "\n",
    "x, iter = gauss_seidel(a, b, 10**-9, 1000)\n",
    "\n",
    "print(f'iterations: {iter}')\n",
    "\n",
    "x"
   ]
  },
  {
   "cell_type": "code",
   "execution_count": 13,
   "id": "61fadfef",
   "metadata": {},
   "outputs": [
    {
     "data": {
      "text/plain": [
       "array([-1.01250563e-10,  2.07674766e-10,  0.00000000e+00])"
      ]
     },
     "execution_count": 13,
     "metadata": {},
     "output_type": "execute_result"
    }
   ],
   "source": [
    "r = np.dot(a, x) - b\n",
    "\n",
    "r"
   ]
  },
  {
   "cell_type": "markdown",
   "id": "1088c825",
   "metadata": {},
   "source": [
    "### 2. Gauss-Seidel with Relaxation"
   ]
  },
  {
   "cell_type": "code",
   "execution_count": 14,
   "id": "1a5c39de",
   "metadata": {},
   "outputs": [
    {
     "name": "stdout",
     "output_type": "stream",
     "text": [
      "iterations: 14\n"
     ]
    },
    {
     "data": {
      "text/plain": [
       "array([3., 1., 1.])"
      ]
     },
     "execution_count": 14,
     "metadata": {},
     "output_type": "execute_result"
    }
   ],
   "source": [
    "from modules.slae.solver.iterative.gauss_seidel import gauss_seidel_relax\n",
    "\n",
    "a = np.array([\n",
    "    [4., -1., 1.],\n",
    "    [-1., 4., -2.],\n",
    "    [1., -2., 4.]\n",
    "])\n",
    "\n",
    "b = np.array([12., -1., 5.])\n",
    "\n",
    "x, iter = gauss_seidel_relax(a, b, 10**-9, 1000)\n",
    "\n",
    "print(f'iterations: {iter}')\n",
    "\n",
    "x"
   ]
  },
  {
   "cell_type": "code",
   "execution_count": 15,
   "id": "322884d5",
   "metadata": {},
   "outputs": [
    {
     "data": {
      "text/plain": [
       "array([ 9.97992800e-11,  2.38632225e-10, -2.16822116e-11])"
      ]
     },
     "execution_count": 15,
     "metadata": {},
     "output_type": "execute_result"
    }
   ],
   "source": [
    "r = np.dot(a, x) - b\n",
    "\n",
    "r"
   ]
  }
 ],
 "metadata": {
  "kernelspec": {
   "display_name": ".venv",
   "language": "python",
   "name": "python3"
  },
  "language_info": {
   "codemirror_mode": {
    "name": "ipython",
    "version": 3
   },
   "file_extension": ".py",
   "mimetype": "text/x-python",
   "name": "python",
   "nbconvert_exporter": "python",
   "pygments_lexer": "ipython3",
   "version": "3.13.4"
  }
 },
 "nbformat": 4,
 "nbformat_minor": 5
}
