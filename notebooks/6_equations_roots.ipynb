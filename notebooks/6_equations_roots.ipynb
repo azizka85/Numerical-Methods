{
 "cells": [
  {
   "cell_type": "markdown",
   "id": "69637de3",
   "metadata": {},
   "source": [
    "# Finding Roots of Equation"
   ]
  },
  {
   "cell_type": "code",
   "execution_count": 59,
   "id": "2d70047e",
   "metadata": {},
   "outputs": [],
   "source": [
    "import sys\n",
    "\n",
    "sys.path.append('..')"
   ]
  },
  {
   "cell_type": "markdown",
   "id": "5b8407eb",
   "metadata": {},
   "source": [
    "### 1. Incremental Search Method"
   ]
  },
  {
   "cell_type": "markdown",
   "id": "7710a323",
   "metadata": {},
   "source": [
    "##### Example:\n",
    "\n",
    "$$ln(x) = x - 2.5$$\n",
    "\n",
    "$$ln(x) - x + 2.5 = 0$$\n",
    "\n",
    "Let's draw the graphs of the functions:\n",
    "\n",
    "$$y = ln(x)$$\n",
    "\n",
    "and\n",
    "\n",
    "$$z = x - 2.5$$"
   ]
  },
  {
   "cell_type": "code",
   "execution_count": 60,
   "id": "17fe735e",
   "metadata": {},
   "outputs": [
    {
     "data": {
      "image/png": "[encoded data removed]",
      "text/plain": [
       "<Figure size 640x480 with 1 Axes>"
      ]
     },
     "metadata": {},
     "output_type": "display_data"
    }
   ],
   "source": [
    "import numpy as np\n",
    "from matplotlib import pyplot as plt\n",
    "\n",
    "x = np.linspace(0.02, 0.2, 20)\n",
    "\n",
    "y = np.log(x)\n",
    "z = x - 2.5\n",
    "\n",
    "plt.xlabel('x')\n",
    "plt.grid(True)\n",
    "plt.plot(x, y, label='ln(x)')\n",
    "plt.plot(x, z, label='x - 2.5')\n",
    "plt.legend(loc='upper right')\n",
    "plt.show()"
   ]
  },
  {
   "cell_type": "markdown",
   "id": "b5dc378f",
   "metadata": {},
   "source": [
    "Let:\n",
    "\n",
    "$$f(x) = ln(x) - x + 2.5$$"
   ]
  },
  {
   "cell_type": "code",
   "execution_count": 61,
   "id": "9bec4c7b",
   "metadata": {},
   "outputs": [
    {
     "data": {
      "text/plain": [
       "(0.08, 0.1)"
      ]
     },
     "execution_count": 61,
     "metadata": {},
     "output_type": "execute_result"
    }
   ],
   "source": [
    "from math import log\n",
    "from modules.equations.single import root_search\n",
    "\n",
    "def f(x: float): return log(x) - x + 2.5\n",
    "\n",
    "x1, x2 = root_search(f, 0.02, 0.2, 0.02)\n",
    "\n",
    "x1, x2"
   ]
  },
  {
   "cell_type": "code",
   "execution_count": 62,
   "id": "a281e830",
   "metadata": {},
   "outputs": [
    {
     "data": {
      "text/plain": [
       "(-0.10572864430825568, 0.09741490700595445)"
      ]
     },
     "execution_count": 62,
     "metadata": {},
     "output_type": "execute_result"
    }
   ],
   "source": [
    "f(x1), f(x2)"
   ]
  },
  {
   "cell_type": "markdown",
   "id": "ad1cbcc9",
   "metadata": {},
   "source": [
    "### 2. Method of Bisection"
   ]
  },
  {
   "cell_type": "code",
   "execution_count": 63,
   "id": "82ce13ee",
   "metadata": {},
   "outputs": [
    {
     "data": {
      "text/plain": [
       "0.089797070287168"
      ]
     },
     "execution_count": 63,
     "metadata": {},
     "output_type": "execute_result"
    }
   ],
   "source": [
    "from modules.equations.single import bisection\n",
    "\n",
    "x = bisection(f, 0.02, 0.2, 10**-9)\n",
    "\n",
    "x"
   ]
  },
  {
   "cell_type": "code",
   "execution_count": 64,
   "id": "5a895871",
   "metadata": {},
   "outputs": [
    {
     "data": {
      "text/plain": [
       "6.421476683726723e-10"
      ]
     },
     "execution_count": 64,
     "metadata": {},
     "output_type": "execute_result"
    }
   ],
   "source": [
    "f(x)"
   ]
  },
  {
   "cell_type": "markdown",
   "id": "b66fb45c",
   "metadata": {},
   "source": [
    "### 3. Ridder’s Method"
   ]
  },
  {
   "cell_type": "code",
   "execution_count": 65,
   "id": "1d76b734",
   "metadata": {},
   "outputs": [
    {
     "data": {
      "text/plain": [
       "(0.08979707022381622, 11)"
      ]
     },
     "execution_count": 65,
     "metadata": {},
     "output_type": "execute_result"
    }
   ],
   "source": [
    "from modules.equations.single import ridder\n",
    "\n",
    "x, iter = ridder(f, 0.02, 0.2, 10**-9, 100)\n",
    "\n",
    "x, iter"
   ]
  },
  {
   "cell_type": "code",
   "execution_count": 66,
   "id": "771ffc70",
   "metadata": {},
   "outputs": [
    {
     "data": {
      "text/plain": [
       "0.0"
      ]
     },
     "execution_count": 66,
     "metadata": {},
     "output_type": "execute_result"
    }
   ],
   "source": [
    "f(x)"
   ]
  },
  {
   "cell_type": "markdown",
   "id": "515bc34f",
   "metadata": {},
   "source": [
    "### 4. Newton-Raphson Method\n",
    "\n",
    "$$f'(x) = \\frac{1}{x} - 1$$"
   ]
  },
  {
   "cell_type": "code",
   "execution_count": 67,
   "id": "bd57498f",
   "metadata": {},
   "outputs": [
    {
     "data": {
      "text/plain": [
       "(0.0897970702238159, 4)"
      ]
     },
     "execution_count": 67,
     "metadata": {},
     "output_type": "execute_result"
    }
   ],
   "source": [
    "from modules.equations.single import newton_raphson\n",
    "\n",
    "def df(x: float): return 1. / x - 1.\n",
    "\n",
    "x, iter = newton_raphson(f, df, 0.02, 0.2, 10**-9, 100)\n",
    "\n",
    "x, iter"
   ]
  },
  {
   "cell_type": "code",
   "execution_count": 68,
   "id": "a51465de",
   "metadata": {},
   "outputs": [
    {
     "data": {
      "text/plain": [
       "-3.552713678800501e-15"
      ]
     },
     "execution_count": 68,
     "metadata": {},
     "output_type": "execute_result"
    }
   ],
   "source": [
    "f(x)"
   ]
  }
 ],
 "metadata": {
  "kernelspec": {
   "display_name": ".venv",
   "language": "python",
   "name": "python3"
  },
  "language_info": {
   "codemirror_mode": {
    "name": "ipython",
    "version": 3
   },
   "file_extension": ".py",
   "mimetype": "text/x-python",
   "name": "python",
   "nbconvert_exporter": "python",
   "pygments_lexer": "ipython3",
   "version": "3.13.4"
  }
 },
 "nbformat": 4,
 "nbformat_minor": 5
}
