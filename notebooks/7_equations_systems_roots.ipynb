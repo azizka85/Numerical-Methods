{
 "cells": [
  {
   "cell_type": "markdown",
   "id": "28f857e2",
   "metadata": {},
   "source": [
    "# Finding Roots of Systems of Equations"
   ]
  },
  {
   "cell_type": "code",
   "execution_count": 5,
   "id": "f13c0118",
   "metadata": {},
   "outputs": [],
   "source": [
    "import sys\n",
    "\n",
    "sys.path.append('..')"
   ]
  },
  {
   "cell_type": "markdown",
   "id": "6c009810",
   "metadata": {},
   "source": [
    "### Newton-Raphson method for a system of equations"
   ]
  },
  {
   "cell_type": "markdown",
   "id": "0fa23fa7",
   "metadata": {},
   "source": [
    "##### Example:\n",
    "\n",
    "$$sin(x) + y^2 + ln(z) - 7 = 0$$\n",
    "\n",
    "$$3x + 2^y - z^3 + 1 = 0$$\n",
    "\n",
    "$$x + y + z - 5 = 0$$"
   ]
  },
  {
   "cell_type": "code",
   "execution_count": 6,
   "id": "223a62c2",
   "metadata": {},
   "outputs": [
    {
     "data": {
      "text/plain": [
       "(array([0.59905376, 2.3959314 , 2.00501484]), 6)"
      ]
     },
     "execution_count": 6,
     "metadata": {},
     "output_type": "execute_result"
    }
   ],
   "source": [
    "import numpy as np\n",
    "from math import sin, log\n",
    "from modules.equations.system import newton_raphson_system\n",
    "\n",
    "def f(x: np.ndarray[np.double]) -> np.ndarray[np.double]:\n",
    "    fx = np.zeros(len(x))\n",
    "\n",
    "    fx[0] = sin(x[0]) + x[1]**2 + log(x[2]) - 7\n",
    "    fx[1] = 3.*x[0] + 2.**x[1] - x[2]**3 + 1.\n",
    "    fx[2] = x[0] + x[1] + x[2] - 5.\n",
    "\n",
    "    return fx\n",
    "\n",
    "x = np.array([1., 1., 1.])\n",
    "\n",
    "x, iter = newton_raphson_system(f, x, 10**-4, 10**-9, 100)\n",
    "\n",
    "x, iter"
   ]
  },
  {
   "cell_type": "code",
   "execution_count": 7,
   "id": "966f966c",
   "metadata": {},
   "outputs": [
    {
     "data": {
      "text/plain": [
       "array([4.35207426e-14, 1.86517468e-13, 0.00000000e+00])"
      ]
     },
     "execution_count": 7,
     "metadata": {},
     "output_type": "execute_result"
    }
   ],
   "source": [
    "f(x)"
   ]
  }
 ],
 "metadata": {
  "kernelspec": {
   "display_name": ".venv",
   "language": "python",
   "name": "python3"
  },
  "language_info": {
   "codemirror_mode": {
    "name": "ipython",
    "version": 3
   },
   "file_extension": ".py",
   "mimetype": "text/x-python",
   "name": "python",
   "nbconvert_exporter": "python",
   "pygments_lexer": "ipython3",
   "version": "3.13.4"
  }
 },
 "nbformat": 4,
 "nbformat_minor": 5
}
